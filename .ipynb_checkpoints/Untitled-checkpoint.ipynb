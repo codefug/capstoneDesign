{
 "cells": [
  {
   "cell_type": "code",
   "execution_count": null,
   "id": "32345e7d",
   "metadata": {},
   "outputs": [],
   "source": [
    "import pandas as pd\n",
    "\n",
    "# 엑셀 파일 읽기\n",
    "excel_file_path = 'your_excel_file.xlsx'\n",
    "df = pd.read_excel(excel_file_path)\n",
    "\n",
    "# 조건 설정 (예: 'Column_name' 열의 값이 100 이상인 행을 추출)\n",
    "condition = df['Column_name'] >= 100\n",
    "\n",
    "# 조건을 만족하는 행 추출\n",
    "filtered_data = df[condition]\n",
    "\n",
    "# 추출된 데이터를 새로운 엑셀 파일로 저장 (선택사항)\n",
    "filtered_data.to_excel('filtered_data.xlsx', index=False)"
   ]
  }
 ],
 "metadata": {
  "kernelspec": {
   "display_name": "Python 3 (ipykernel)",
   "language": "python",
   "name": "python3"
  },
  "language_info": {
   "codemirror_mode": {
    "name": "ipython",
    "version": 3
   },
   "file_extension": ".py",
   "mimetype": "text/x-python",
   "name": "python",
   "nbconvert_exporter": "python",
   "pygments_lexer": "ipython3",
   "version": "3.11.5"
  }
 },
 "nbformat": 4,
 "nbformat_minor": 5
}
